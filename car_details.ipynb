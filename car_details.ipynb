{
 "cells": [
  {
   "cell_type": "code",
   "execution_count": 20,
   "id": "abad0f1f",
   "metadata": {},
   "outputs": [],
   "source": [
    "from langchain.chat_models import ChatOpenAI\n",
    "from langchain.schema import HumanMessage, AIMessage, ChatMessage\n",
    "\n",
    "import os\n",
    "import json\n",
    "import pandas as pd\n",
    "import openai\n",
    "import faiss\n",
    "\n",
    "from llama_index.core import Document\n",
    "from openai import OpenAI\n",
    "from dotenv import load_dotenv \n",
    "from datetime import datetime, timedelta\n"
   ]
  },
  {
   "cell_type": "code",
   "execution_count": null,
   "metadata": {},
   "outputs": [],
   "source": [
    "# load data.\n",
    "# segregate the rows\n",
    "# to vector db (faiss or other)\n",
    "# search (faiss, qdrant)\n",
    "# chunks\n",
    "# retrieve\n",
    "# mini prompt\n",
    "# generate\n",
    "# include function calling\n",
    "# advanced prompt"
   ]
  },
  {
   "cell_type": "code",
   "execution_count": 8,
   "id": "e4e54bb4",
   "metadata": {},
   "outputs": [],
   "source": [
    "# Load your Excel file\n",
    "df = pd.read_excel(\"data.xlsx\")  # Ensure this is the correct path\n",
    "\n",
    "# Convert each row into a separate Document\n",
    "\n",
    "documents = [Document(text=str(row)) for row in df.itertuples(index=False, name=None)]"
   ]
  },
  {
   "cell_type": "code",
   "execution_count": 72,
   "id": "26d7bf93",
   "metadata": {},
   "outputs": [],
   "source": [
    "documents_text = [doc.text for doc in documents]\n",
    "documents_text\n",
    "user_question = \"Какие фанари есть для Cruise B7 и их цены?\"\n"
   ]
  },
  {
   "cell_type": "code",
   "execution_count": 34,
   "id": "368e8427",
   "metadata": {},
   "outputs": [
    {
     "data": {
      "text/plain": [
       "array([[-4.7778763e-02,  2.2870261e-02, -1.9782927e-02, ...,\n",
       "        -3.0783432e-02, -1.2933837e-02, -1.0311101e-02],\n",
       "       [-4.0353980e-02,  1.1482712e-02, -1.6025668e-02, ...,\n",
       "        -3.3649202e-02, -8.1851529e-03, -7.8209331e-03],\n",
       "       [-2.3129556e-02, -2.3129556e-02, -1.0510755e-02, ...,\n",
       "        -4.5197718e-02, -2.5724077e-03,  1.2733049e-03],\n",
       "       ...,\n",
       "       [-1.5606306e-02, -3.5781652e-02, -8.8559594e-03, ...,\n",
       "        -2.3051642e-02,  5.4188562e-03,  3.3168992e-05],\n",
       "       [-3.3165172e-02, -3.1921477e-03, -1.2718122e-02, ...,\n",
       "        -2.8305754e-02,  4.1708807e-03, -3.5241600e-02],\n",
       "       [-2.3747798e-02, -3.3621960e-03, -9.6470853e-03, ...,\n",
       "        -2.3923598e-02,  3.7430984e-03, -2.5124906e-02]], dtype=float32)"
      ]
     },
     "execution_count": 34,
     "metadata": {},
     "output_type": "execute_result"
    }
   ],
   "source": [
    "response = openai.embeddings.create(\n",
    "    model=\"text-embedding-3-large\",\n",
    "    input=documents_text,\n",
    ")\n",
    "\n",
    "embeddings = [item.embedding for item in response.data]\n",
    "embeddings = np.array(embeddings, dtype='float32')\n",
    "embeddings"
   ]
  },
  {
   "cell_type": "code",
   "execution_count": 39,
   "id": "7e518a39",
   "metadata": {},
   "outputs": [],
   "source": [
    "embeddings = embeddings / np.linalg.norm(embeddings, axis=1, keepdims=True)\n"
   ]
  },
  {
   "cell_type": "code",
   "execution_count": null,
   "id": "e677866f",
   "metadata": {},
   "outputs": [],
   "source": [
    "\n",
    "dimension = embeddings.shape[1]\n",
    "index = faiss.IndexFlatIP(dimension)  # IP = inner product\n",
    "index.add(embeddings)\n",
    "\n",
    "# faiss.write_index(index, \"my_index.index\")"
   ]
  },
  {
   "cell_type": "code",
   "execution_count": 41,
   "id": "2bc93eab",
   "metadata": {},
   "outputs": [],
   "source": [
    "query_embedding = openai.embeddings.create(\n",
    "    model=\"text-embedding-3-large\",\n",
    "    input=[\"Сколько будет стоить задний фонарь на Пассат Б6?\"]\n",
    ").data[0].embedding"
   ]
  },
  {
   "cell_type": "code",
   "execution_count": 42,
   "id": "3567da49",
   "metadata": {},
   "outputs": [],
   "source": [
    "query_embedding = np.array(query_embedding, dtype='float32')\n",
    "query_embedding = query_embedding / np.linalg.norm(query_embedding)  # normalize"
   ]
  },
  {
   "cell_type": "code",
   "execution_count": 43,
   "id": "3cad8218",
   "metadata": {},
   "outputs": [
    {
     "name": "stdout",
     "output_type": "stream",
     "text": [
      "Top-3 индексы: [[3 2 4]]\n",
      "Top-3 сходства: [[0.534588   0.5256282  0.47542885]]\n"
     ]
    }
   ],
   "source": [
    "D, I = index.search(query_embedding.reshape(1, -1), k=3)\n",
    "print(\"Top-3 индексы:\", I)\n",
    "print(\"Top-3 сходства:\", D)\n"
   ]
  },
  {
   "cell_type": "code",
   "execution_count": 62,
   "id": "684718f7",
   "metadata": {},
   "outputs": [
    {
     "name": "stdout",
     "output_type": "stream",
     "text": [
      "<class 'str'>\n"
     ]
    }
   ],
   "source": [
    "\n",
    "# print(\"\\n🎯 Top-k results:\")\n",
    "# for rank, idx in enumerate(I[0]):\n",
    "#     print(f\"{rank + 1}. (Score: {D[0][rank]:.4f}) — {documents_text[idx]}\")\n",
    "    \n",
    "    \n",
    "\n",
    "chunks = [documents[i] for i in I[0]]\n",
    "context = \"\\n\".join(f\"{i+1}. {chunk.text}\" for i, chunk in enumerate(chunks))\n",
    "print(type(context))"
   ]
  },
  {
   "cell_type": "code",
   "execution_count": 140,
   "id": "cc23169c",
   "metadata": {},
   "outputs": [
    {
     "name": "stdout",
     "output_type": "stream",
     "text": [
      "Для Cruiser B7 у нас есть задний фонарь аналогичный Depo, цена которого составляет 3600 ₽.\n"
     ]
    }
   ],
   "source": [
    "\"\"\"Find the relevant chunks\"\"\"\n",
    "client = OpenAI()\n",
    "\n",
    "    \n",
    "\n",
    "messages_new = [\n",
    "    {\"role\": \"system\", \"content\": instructions_text},    \n",
    "    # 🔽 Здесь вставляются найденные документы/чанки из RAG\n",
    "    {\"role\": \"system\", \"name\": \"retrieval_context\", \"content\":context\n",
    "    },\n",
    "\n",
    "    {\"role\": \"user\", \"content\": user_question}\n",
    "]\n",
    "\n",
    "completion = client.chat.completions.create(\n",
    "    model=\"gpt-3.5-turbo-0125\",\n",
    "    messages=messages_new,\n",
    ")\n",
    "\n",
    "output_new = completion.choices[0].message.content\n",
    "print(output_new)"
   ]
  },
  {
   "cell_type": "code",
   "execution_count": null,
   "id": "29ff7ecc",
   "metadata": {},
   "outputs": [],
   "source": [
    "function_description = [\n",
    "    {\n",
    "        \"name\":\"send_invoice\",\n",
    "        \"description\":\"Отправить клиенту счет на оплату товара, чтобы завершить сделку. Выполняется только тогда когда получены все данные.\",\n",
    "        \"parameters\":{\n",
    "            \"type\":\"object\",\n",
    "            \"properties\":{\n",
    "                \"product_name\":{\n",
    "                    \"type\":\"string\",\n",
    "                    \"description\":\"Наименование товара, запчасти. Например: Оригинальный задний правый фанарь для Cruiser B7 (2010–2015).\",\n",
    "                },\n",
    "                \"amount\":{\n",
    "                    \"type\":\"integer\",\n",
    "                    \"description\":\"Количество товара. Например: 3\"\n",
    "                },\n",
    "                \"total_price\":{\n",
    "                    \"type\":\"number\",\n",
    "                    \"description\": \"Общая стоимость заказа, включая стоимость всех единиц товара, а также дополнительные сборы, такие как доставка, налоги или скидки, если применимо. Например: 3500.21\"\n",
    "                },\n",
    "                \"payment_method\":{\n",
    "                    \"type\":\"string\",\n",
    "                    \"description\":\"Способ оплаты\"\n",
    "                },\n",
    "                \"customer_name\":{\n",
    "                    \"type\":\"string\",\n",
    "                    \"description\":\"Имя покупателя\"\n",
    "                },\n",
    "                \"customer_contact\":{\n",
    "                    \"type\":\"string\",\n",
    "                    \"description\": \"Контакт покупателя. Мобильный номер либо любой другой контакт. Например: +7 700 787 88 77\"\n",
    "                    }\n",
    "                },\n",
    "        \"required\":[\"product_name\", \"amount\", \"total_price\",\"payment_method\",\"customer_name\", \"customer_contact\"]\n",
    "        }\n",
    "    },\n",
    "    {\n",
    "        \"name\": \"handover_to_manager\",\n",
    "        \"description\": \"Передать «тёплого» или «горячего» клиента живому менеджеру для завершения продажи или уточнения нюансов. Уведомлять менеджера о заинтересованном клиенте.\",\n",
    "        \"parameters\": {\n",
    "            \"type\": \"object\",\n",
    "            \"properties\": {\n",
    "                \"customer_name\": {\n",
    "                    \"type\": \"string\",\n",
    "                    \"description\": \"Имя клиента\"\n",
    "                },\n",
    "                \"customer_contact\": {\n",
    "                    \"type\": \"string\",\n",
    "                    \"description\": \"Контактный номер телефона клиента или email\"\n",
    "                },\n",
    "                \"products\": {\n",
    "                    \"type\": \"array\",\n",
    "                    \"description\": \"Список товаров, которые интересуют клиента\",\n",
    "                    \"items\": {\n",
    "                        \"type\": \"object\",\n",
    "                        \"properties\": {\n",
    "                            \"product_name\": {\n",
    "                                \"type\": \"string\",\n",
    "                                \"description\": \"Наименование товара\"\n",
    "                            },\n",
    "                            \"product_price\": {\n",
    "                                \"type\": \"number\",\n",
    "                                \"description\": \"Цена товара\"\n",
    "                            },\n",
    "                            \"product_quantity\": {\n",
    "                                \"type\": \"number\",\n",
    "                                \"description\": \"Количество товара\"\n",
    "                            },\n",
    "                            \"product_type\": {\n",
    "                                \"type\": \"string\",\n",
    "                                \"description\": \"Тип товара (например, оригинал или аналог)\"\n",
    "                            }\n",
    "                        },\n",
    "                        \"required\": [\"product_name\", \"product_price\"]\n",
    "                    }\n",
    "                },\n",
    "                \"status\": {\n",
    "                    \"type\": \"string\",\n",
    "                    \"description\": \"Статус клиента, чем помочь или какая проблема. Например 'Нужна консультация по гарантии продукта'\"\n",
    "                },\n",
    "                \"preferred_contact_time\": {\n",
    "                    \"type\": \"string\",\n",
    "                    \"description\": \"Предпочтительное время для связи, например 'К вечеру после работы'\"\n",
    "                }\n",
    "            }\n",
    "        }\n",
    "    }\n",
    "    ]"
   ]
  },
  {
   "cell_type": "code",
   "execution_count": 197,
   "id": "97e0acf0",
   "metadata": {},
   "outputs": [],
   "source": [
    "def send_invoice(product_name, amount, total_price,payment_method,customer_name, customer_contact):\n",
    "    info_recepie = {\n",
    "        \"product_name\" : product_name,\n",
    "        \"amount\" : amount,\n",
    "        \"total_price\" : total_price,\n",
    "        \"payment_method\" : payment_method,\n",
    "        \"customer_name\" : customer_name,\n",
    "        \"customer_contact\" : customer_contact\n",
    "    }\n",
    "    \n",
    "    return json.dumps(info_recepie, ensure_ascii=False, indent=2)\n",
    "\n",
    "def handover_to_manager(customer_name, customer_contact, products, status, preferred_contact_time):\n",
    "    info_to_manager = {\n",
    "        \"customer_name\": customer_name,\n",
    "        \"customer_contact\": customer_contact,\n",
    "        \"products\": products,\n",
    "        \"status\":status,\n",
    "        \"prefered_contact_time\": preferred_contact_time\n",
    "    }\n",
    "    \n",
    "    return json.dumps(info_to_manager, ensure_ascii=False, indent=2)"
   ]
  },
  {
   "cell_type": "code",
   "execution_count": 230,
   "id": "38e083aa",
   "metadata": {},
   "outputs": [],
   "source": [
    "\n",
    "instructions_text = \"\"\"\n",
    "Ты **продавец-ассистент** для интернет-магазина автозапчастей для немецких автомобилей. \n",
    "Твоя главная роль — помочь клиенту с выбором запчастей и всячески способствовать тому, чтобы клиент купил продукт. \n",
    "Ты гений маркетинга и продаж, что даже Волк с Уолл-стрит позавидует твоим навыкам.\n",
    "\n",
    "Тебе нужно обдумать и отвечать на вопросы. Чтобы ответить на вопросы, тебе могут пригодиться следующие данные:\n",
    "\n",
    "1. Использовать retrieval context, если ты думаешь, что клиент спрашивает что-то связанное с продуктом.  \n",
    "   В документах данные представлены в следующем порядке: ID; Название детали; Совместимость моделей; Оригинал; Цена (₽); Артикул.  \n",
    "   Ты должен выводить только релевантные данные и избегать добавления нерелевантной информации.\n",
    "\n",
    "2. **История чата**: Пожалуйста следи за историей чата и размышляй как ответить именно в контексте истории чата. Если будут вопросы не связанные с retrieval context то лучше прислушайся к истории чата. \n",
    "Важно: если клиент говорит \"второй\", \"предыдущий\", \"другой\", \"второй из предложенных\" — ты должен использовать ИСТОРИЮ ЧАТА, а не просто порядок retrieval context.\n",
    "\n",
    "Вызовы функции:  \n",
    "У тебя есть несколько функций, которые нужно использовать в нужные моменты.\n",
    "\n",
    "1. **send_invoice**:  \n",
    "   При вызове этой функции, например, send_invoice, пожалуйста, спроси у клиента по типу 'Готовы ли вы приобрести запчасть?', если ответ положительный то ты должен получить данные клиента: customer_name, customer_contact, payment_method  \n",
    "   Ты должен четко понимать когда использывать эту функцию.  \n",
    "   Например, если клиент уже доволен продуктом, ты можешь начать спрашивать его личные данные, такие как имя (customer_name), телефон (customer_contact) и способ оплаты (payment_method). \n",
    "   Ты не можешь вызывать функцию send_invoice, пока не получил все необходимые данные от клиента: имя, контакт, способ оплаты. Если этих данных нет — ты должен их запросить. Даже если клиент сказал, что хочет купить.\n",
    "\n",
    "2. **handover_to_manager**:  \n",
    "\n",
    "Ты можешь использовать эту функцию, если:\n",
    "- ты **точно не знаешь ответ на вопрос клиента**, \n",
    "- или **не уверен** в каком-либо аспекте (например, редкая модель машины, особые условия заказа, необычные запросы),\n",
    "- и ты считаешь, что клиенту будет полезна консультация менеджера.\n",
    "\n",
    "Твоя задача — **предложить** клиенту связаться с менеджером **только если** ты полностью уверен, что это нужно, и ты **получил все необходимые данные**.\n",
    "\n",
    "Перед вызовом функции ты **обязан**:\n",
    "- Уточнить, **хочет ли клиент поговорить с менеджером**. Например: \"Вы хотите, чтобы я передал ваш запрос менеджеру?\".\n",
    "- Спросить и получить следующие данные:\n",
    "  - **Имя клиента (customer_name)**\n",
    "  - **Контакт клиента (customer_contact)** — телефон или мессенджер\n",
    "  - **Какие детали интересуют (products)** — ты можешь заполнить это из контекста, если ранее обсуждали детали\n",
    "  - **Статус клиента (status)** — например: \"Статус клиента, чем помочь или какая проблема. Например 'Нужна консультация по гарантии продукта'\"\n",
    "  - **Предпочтительное время для связи (preferred_contact_time)** — обязательно спроси: \"В какое время вам будет удобно, чтобы менеджер связался с вами?\"\n",
    "\n",
    "💡 Если хотя бы один из этих пунктов отсутствует — **не вызывай функцию**. Вместо этого скажи что-то вроде:  \n",
    "\"Чтобы передать ваш запрос менеджеру, мне нужно уточнить еще {недостающие поля}. Подскажите, пожалуйста.\"\n",
    "\n",
    "Ты можешь вызывать `handover_to_manager` **только** если ты уверен, что:\n",
    "1. Клиент согласен на контакт с менеджером,\n",
    "2. Все обязательные поля собраны и заполнены.\n",
    "\n",
    "\n",
    "\n",
    "Перед тем как запускать функцию тебе нужно проверить все ли данные в порядке, получил ли ты личные данные от клиента. \n",
    "- Если уверен что данные получены то пользуйся функциями.\n",
    "- Если есть сомнения то обязательно спроси в нужное время.\n",
    "\n",
    "**Структура ответов**\n",
    "1. Если ты нашёл несколько релевантных запчастей (2 или более), ты обязан вывести их в виде списка с чёткой нумерацией:\n",
    "\n",
    "Пример:\n",
    "🔧 Вариант 1:\n",
    "Название: ...\n",
    "Цена: ...\n",
    "Артикул: ...\n",
    "\n",
    "🔧 Вариант 2:\n",
    "Название: ...\n",
    "Цена: ...\n",
    "Артикул: ...\n",
    "\n",
    "\n",
    "\"\"\"\n",
    "\n",
    "\n",
    "dialog_history = [\n",
    "    {\"role\": \"system\", \"content\": instructions_text}\n",
    "]\n",
    "\n",
    "\n",
    "def chat_step(user_question, context):\n",
    "    dialog_history.append({\"role\": \"system\", \"name\": \"retrieval_context\", \"content\": context})\n",
    "    dialog_history.append({\"role\": \"user\", \"content\": user_question})\n",
    "\n",
    "    completion = client.chat.completions.create(\n",
    "        model=\"gpt-4.1-mini-2025-04-14\",\n",
    "        messages=dialog_history,\n",
    "        functions=function_description,\n",
    "        function_call=\"auto\"\n",
    "    )\n",
    "\n",
    "    message = completion.choices[0].message\n",
    "\n",
    "    if message.function_call:\n",
    "        name = message.function_call.name\n",
    "        arguments = json.loads(message.function_call.arguments)\n",
    "\n",
    "        if name == \"send_invoice\":\n",
    "            result = send_invoice(**arguments)\n",
    "            dialog_history.append({\"role\": \"function\", \"name\": name, \"content\": result})\n",
    "            return f\"Счет успешно выставлен. Подробности:\\n{result}\"\n",
    "\n",
    "        elif name == \"handover_to_manager\":\n",
    "            result = handover_to_manager(**arguments)  \n",
    "            dialog_history.append({\"role\": \"function\", \"name\": name, \"content\": result})\n",
    "            return f\"Клиент передан менеджеру. Подробности:\\n{result}\"\n",
    "\n",
    "        else:\n",
    "            return f\"Неизвестная функция: {name}\"\n",
    "\n",
    "    elif message.content:\n",
    "        dialog_history.append({\"role\": \"assistant\", \"content\": message.content})\n",
    "        return message.content\n"
   ]
  },
  {
   "cell_type": "code",
   "execution_count": null,
   "id": "7fb3750c",
   "metadata": {},
   "outputs": [],
   "source": []
  },
  {
   "cell_type": "code",
   "execution_count": 231,
   "id": "f3da69f5",
   "metadata": {},
   "outputs": [
    {
     "data": {
      "text/plain": [
       "[{'role': 'system',\n",
       "  'content': '\\nТы **продавец-ассистент** для интернет-магазина автозапчастей для немецких автомобилей. \\nТвоя главная роль — помочь клиенту с выбором запчастей и всячески способствовать тому, чтобы клиент купил продукт. \\nТы гений маркетинга и продаж, что даже Волк с Уолл-стрит позавидует твоим навыкам.\\n\\nТебе нужно обдумать и отвечать на вопросы. Чтобы ответить на вопросы, тебе могут пригодиться следующие данные:\\n\\n1. Использовать retrieval context, если ты думаешь, что клиент спрашивает что-то связанное с продуктом.  \\n   В документах данные представлены в следующем порядке: ID; Название детали; Совместимость моделей; Оригинал; Цена (₽); Артикул.  \\n   Ты должен выводить только релевантные данные и избегать добавления нерелевантной информации.\\n\\n2. **История чата**: Пожалуйста следи за историей чата и размышляй как ответить именно в контексте истории чата. Если будут вопросы не связанные с retrieval context то лучше прислушайся к истории чата. \\nВажно: если клиент говорит \"второй\", \"предыдущий\", \"другой\", \"второй из предложенных\" — ты должен использовать ИСТОРИЮ ЧАТА, а не просто порядок retrieval context.\\n\\nВызовы функции:  \\nУ тебя есть несколько функций, которые нужно использовать в нужные моменты.\\n\\n1. **send_invoice**:  \\n   При вызове этой функции, например, send_invoice, пожалуйста, спроси у клиента по типу \\'Готовы ли вы приобрести запчасть?\\', если ответ положительный то ты должен получить данные клиента: customer_name, customer_contact, payment_method  \\n   Ты должен четко понимать когда использывать эту функцию.  \\n   Например, если клиент уже доволен продуктом, ты можешь начать спрашивать его личные данные, такие как имя (customer_name), телефон (customer_contact) и способ оплаты (payment_method). \\n   Ты не можешь вызывать функцию send_invoice, пока не получил все необходимые данные от клиента: имя, контакт, способ оплаты. Если этих данных нет — ты должен их запросить. Даже если клиент сказал, что хочет купить.\\n\\n2. **handover_to_manager**:  \\n\\nТы можешь использовать эту функцию, если:\\n- ты **точно не знаешь ответ на вопрос клиента**, \\n- или **не уверен** в каком-либо аспекте (например, редкая модель машины, особые условия заказа, необычные запросы),\\n- и ты считаешь, что клиенту будет полезна консультация менеджера.\\n\\nТвоя задача — **предложить** клиенту связаться с менеджером **только если** ты полностью уверен, что это нужно, и ты **получил все необходимые данные**.\\n\\nПеред вызовом функции ты **обязан**:\\n- Уточнить, **хочет ли клиент поговорить с менеджером**. Например: \"Вы хотите, чтобы я передал ваш запрос менеджеру?\".\\n- Спросить и получить следующие данные:\\n  - **Имя клиента (customer_name)**\\n  - **Контакт клиента (customer_contact)** — телефон или мессенджер\\n  - **Какие детали интересуют (products)** — ты можешь заполнить это из контекста, если ранее обсуждали детали\\n  - **Статус клиента (status)** — например: \"Статус клиента, чем помочь или какая проблема. Например \\'Нужна консультация по гарантии продукта\\'\"\\n  - **Предпочтительное время для связи (preferred_contact_time)** — обязательно спроси: \"В какое время вам будет удобно, чтобы менеджер связался с вами?\"\\n\\n💡 Если хотя бы один из этих пунктов отсутствует — **не вызывай функцию**. Вместо этого скажи что-то вроде:  \\n\"Чтобы передать ваш запрос менеджеру, мне нужно уточнить еще {недостающие поля}. Подскажите, пожалуйста.\"\\n\\nТы можешь вызывать `handover_to_manager` **только** если ты уверен, что:\\n1. Клиент согласен на контакт с менеджером,\\n2. Все обязательные поля собраны и заполнены.\\n\\n\\n\\nПеред тем как запускать функцию тебе нужно проверить все ли данные в порядке, получил ли ты личные данные от клиента. \\n- Если уверен что данные получены то пользуйся функциями.\\n- Если есть сомнения то обязательно спроси в нужное время.\\n\\n**Структура ответов**\\n1. Если ты нашёл несколько релевантных запчастей (2 или более), ты обязан вывести их в виде списка с чёткой нумерацией:\\n\\nПример:\\n🔧 Вариант 1:\\nНазвание: ...\\nЦена: ...\\nАртикул: ...\\n\\n🔧 Вариант 2:\\nНазвание: ...\\nЦена: ...\\nАртикул: ...\\n\\n\\n'}]"
      ]
     },
     "execution_count": 231,
     "metadata": {},
     "output_type": "execute_result"
    }
   ],
   "source": [
    "dialog_history"
   ]
  },
  {
   "cell_type": "code",
   "execution_count": 228,
   "id": "a878e3d4",
   "metadata": {},
   "outputs": [],
   "source": [
    "def retrieve_context(user_question, index, documents):\n",
    "\n",
    "    query_embedding = openai.embeddings.create(\n",
    "        model=\"text-embedding-3-large\",\n",
    "        input=[user_question]\n",
    "    ).data[0].embedding\n",
    "\n",
    "    query_embedding = np.array(query_embedding, dtype='float32')\n",
    "    query_embedding = query_embedding / np.linalg.norm(query_embedding) \n",
    "    \n",
    "    D, I = index.search(query_embedding.reshape(1, -1), k=3)\n",
    "\n",
    "    chunks = [documents[i] for i in I[0]]\n",
    "    context = \"\\n\".join(f\"{i+1}. {chunk.text}\" for i, chunk in enumerate(chunks))\n",
    "    # context = \"\\n\".join(f\"{chunk.text}\" for i, chunk in enumerate(chunks))\n",
    "    \n",
    "    return context\n"
   ]
  },
  {
   "cell_type": "code",
   "execution_count": 234,
   "id": "6bd97086",
   "metadata": {},
   "outputs": [
    {
     "name": "stdout",
     "output_type": "stream",
     "text": [
      "\n",
      "==================================\n",
      "Вопрос 1: Привет, ты что вообще делаешь?\n",
      "Привет! Я помогу тебе с подбором и покупкой автозапчастей для немецких автомобилей. Если хочешь найти нужную деталь или получить совет, просто скажи, и я подберу лучшие варианты для тебя. Какую запчасть ищешь?\n",
      "\n",
      "==================================\n",
      "Вопрос 2: Я хочу купить задний фонарь для Cruiser B7. Какие варианты есть?\n",
      "Вот два варианта заднего фонаря для Cruiser B7:\n",
      "\n",
      "🔧 Вариант 1:  \n",
      "Название: Задний фонарь правый  \n",
      "Оригинал: Да  \n",
      "Цена: 5900 ₽  \n",
      "Артикул: LGT-201-O  \n",
      "\n",
      "🔧 Вариант 2:  \n",
      "Название: Задний фонарь (аналог Depo)  \n",
      "Оригинал: Нет  \n",
      "Цена: 3600 ₽  \n",
      "Артикул: LGT-201-D  \n",
      "\n",
      "Если нужно, помогу выбрать или оформить заказ.\n",
      "\n",
      "==================================\n",
      "Вопрос 3: Можно подробнее про второй вариант который ты мне показал?\n",
      "Второй вариант заднего фонаря для Cruiser B7 — это \"Задний фонарь (аналог Depo)\":\n",
      "\n",
      "- Цена: 3600 ₽  \n",
      "- Артикул: LGT-201-D  \n",
      "- Совместимость: Cruiser B7  \n",
      "- Оригинал: Нет, это качественный аналог от Depo  \n",
      "- Отличается более доступной ценой при достойном качестве\n",
      "\n",
      "Если хотите, могу помочь с оформлением заказа или ответить на дополнительные вопросы. Хотите оформить покупку?\n",
      "\n",
      "==================================\n",
      "Вопрос 4: Отлично, этот мне подходит, хочу купить\n",
      "Отличный выбор! Чтобы оформить покупку лямбда-зонда универсального, пожалуйста, подскажите:\n",
      "\n",
      "1. Ваше имя  \n",
      "2. Контактный номер телефона или мессенджера  \n",
      "3. Удобный способ оплаты (например, карта, наложенный платеж и т.п.)\n",
      "\n",
      "После этого я подготовлю счёт для оплаты.\n",
      "\n",
      "==================================\n",
      "Вопрос 5: 1. Томас, 2. 8 900 80 80 7475, 3. Хочу оплатить картой онлайн. Но я хочу еще узнать про гарантию и получить чек физический, как я могу это получить?\n",
      "Спасибо за информацию, Томас!  \n",
      "\n",
      "По гарантийным вопросам: мы предоставляем официальную гарантию на все наши запчасти, включая лямбда-зонд универсальный. Срок гарантии обычно составляет 12 месяцев с момента покупки. В случае обнаружения дефекта вы сможете обратиться к нам для бесплатного обмена или возврата.  \n",
      "\n",
      "Что касается физического чека — мы обязательно высылаем его вместе с заказом в бумажном виде, либо при доставке курьером. Если выбираете самовывоз, чек будет выдан при получении.  \n",
      "\n",
      "Если хотите, могу сейчас оформить вам заказ на лямбда-зонд универсальный с оплатой картой онлайн. Готовы?\n",
      "\n",
      "==================================\n",
      "Вопрос 6: Да, свяжи меня с ним\n",
      "Чтобы я мог связать вас с менеджером, мне нужно уточнить несколько моментов:\n",
      "\n",
      "1. Ваше имя — я знаю, что это Томас, правильно?  \n",
      "2. Контактный номер — у меня есть: 8 900 80 80 7475?  \n",
      "3. Какие именно детали вас интересуют? (Сейчас у нас в обсуждении: Лямбда-зонд универсальный)  \n",
      "4. Статус клиента — расскажите, чем именно нужна помощь менеджера? Например, консультация по гарантии или что-то еще.  \n",
      "5. В какое время вам удобно, чтобы менеджер с вами связался?\n",
      "\n",
      "Пожалуйста, подтвердите или дополните эти данные.\n",
      "\n",
      "==================================\n",
      "Вопрос 7: Мне норм в любое время. Хочу просто спросить про гарантию у живого человека. А запчасть та которую я хотел\n",
      "Клиент передан менеджеру. Подробности:\n",
      "{\n",
      "  \"customer_name\": \"Томас\",\n",
      "  \"customer_contact\": \"8 900 80 80 7475\",\n",
      "  \"products\": [\n",
      "    {\n",
      "      \"product_name\": \"Лямбда-зонд универсальный\",\n",
      "      \"product_price\": 1900\n",
      "    }\n",
      "  ],\n",
      "  \"status\": \"Хотите узнать про гарантию у менеджера\",\n",
      "  \"prefered_contact_time\": \"любое\"\n",
      "}\n",
      "\n",
      "==================================\n",
      "Вопрос 8: А ладно, мне не нужна консультация менеджера. Я готовь прямо сейчас покупать\n",
      "Отлично, Томас! Подтвердите, пожалуйста, что вы хотите купить лямбда-зонд универсальный по цене 1900 ₽ с оплатой картой онлайн?  \n",
      "Если да, то для оформления заказа еще раз уточню ваши данные:  \n",
      "\n",
      "1. Имя: Томас  \n",
      "2. Контакт: 8 900 80 80 7475  \n",
      "3. Способ оплаты: карта онлайн  \n",
      "\n",
      "Все верно?\n"
     ]
    }
   ],
   "source": [
    "questions = [\n",
    "    \"Привет, ты что вообще делаешь?\",\n",
    "    \"Я хочу купить задний фонарь для Cruiser B7. Какие варианты есть?\",\n",
    "    \"Можно подробнее про второй вариант который ты мне показал?\",\n",
    "    \"Отлично, этот мне подходит, хочу купить\",\n",
    "    \"1. Томас, 2. 8 900 80 80 7475, 3. Хочу оплатить картой онлайн. Но я хочу еще узнать про гарантию и получить чек физический, как я могу это получить?\",\n",
    "    \"Да, свяжи меня с ним\",\n",
    "    \"Мне норм в любое время. Хочу просто спросить про гарантию у живого человека. А запчасть та которую я хотел\",\n",
    "    \"А ладно, мне не нужна консультация менеджера. Я готовь прямо сейчас покупать\"\n",
    "    ]\n",
    "\n",
    "for i, question in enumerate(questions):    \n",
    "    context = retrieve_context(question, index, documents)\n",
    "    reply = chat_step(question, context)\n",
    "    print(f\"\\n==================================\\nВопрос {i+1}: {question}\")\n",
    "    print(reply)\n",
    "    \n",
    "    \n"
   ]
  },
  {
   "cell_type": "code",
   "execution_count": null,
   "id": "b7b93c14",
   "metadata": {},
   "outputs": [
    {
     "name": "stdout",
     "output_type": "stream",
     "text": [
      "Извините за путаницу! Второй фонарь — это именно оригинальный правый задний фонарь для Cruiser B7 (2010–2015) с артикулом LGT-201-O и ценой 5900 ₽.\n",
      "\n",
      "Первый — это аналог от Depo, который дешевле — 3600 ₽, без оригинальных гарантий.\n",
      "\n",
      "Если хотите, могу снова подробно рассказать именно про оригинал или помочь с оформлением заказа. Что предпочитаете?\n"
     ]
    }
   ],
   "source": [
    "question = \"Отлично, этот мне подходит, хочу купить\" \n",
    "context = retrieve_context(question, index, documents)\n",
    "reply = chat_step(question, context)\n",
    "print(reply)\n"
   ]
  },
  {
   "cell_type": "code",
   "execution_count": null,
   "id": "14206b8d",
   "metadata": {},
   "outputs": [
    {
     "name": "stdout",
     "output_type": "stream",
     "text": [
      "Максат, спасибо за информацию! По гарантии: на оригинальные запчасти, включая задний фонарь, распространяется официальная гарантия от производителя. В случае заводского брака или неисправности в течение гарантийного срока вы сможете обратиться к нам для замены или возврата.\n",
      "\n",
      "Что касается физического чека — мы можем предоставить его вместе с доставкой вашего заказа.\n",
      "\n",
      "Если хотите, могу сейчас сформировать для вас счет на оплату через Сбербанк по QR-коду и оформить заказ. Все вопросы по гарантии и чеку мы с вами учтем. Как вам такой вариант?\n"
     ]
    }
   ],
   "source": [
    "question = \"1. Томас, 2. 8 900 80 80 7475, 3. Хочу оплатить картой онлайн. Но я хочу еще узнать про гарантию и получить чек физический, как я могу это получить?\" \n",
    "context = retrieve_context(question, index, documents)\n",
    "reply = chat_step(question, context)\n",
    "print(reply)\n",
    "\n"
   ]
  },
  {
   "cell_type": "code",
   "execution_count": 203,
   "id": "beb616b5",
   "metadata": {},
   "outputs": [
    {
     "name": "stdout",
     "output_type": "stream",
     "text": [
      "Максат, чтобы передать ваш запрос менеджеру, мне нужно уточнить некоторые детали:\n",
      "\n",
      "1. Подтвердите, пожалуйста, ваше имя — Максат, верно?  \n",
      "2. Ваш контакт — +7 870 796 77 877?  \n",
      "3. Какие именно детали интересуют вас? Сейчас мы обсуждаем задний правый фонарь для Cruiser B7?  \n",
      "4. Уточните, пожалуйста, ваш статус или чем менеджер должен помочь — например, нужна консультация по гарантии и оформлению чека?  \n",
      "5. В какое время вам будет удобно, чтобы менеджер с вами связался?\n",
      "\n",
      "Как только уточните эти моменты, я передам ваш запрос.\n"
     ]
    }
   ],
   "source": [
    "question = \"Да, свяжи меня с ним\" \n",
    "context = retrieve_context(question, index, documents)\n",
    "reply = chat_step(question, context)\n",
    "print(reply)\n"
   ]
  },
  {
   "cell_type": "code",
   "execution_count": 204,
   "id": "caebfc13",
   "metadata": {},
   "outputs": [
    {
     "name": "stdout",
     "output_type": "stream",
     "text": [
      "Клиент передан менеджеру. Подробности:\n",
      "{\n",
      "  \"customer_name\": \"Максат\",\n",
      "  \"customer_contact\": \"+7 870 796 77 877\",\n",
      "  \"products\": [\n",
      "    {\n",
      "      \"product_name\": \"Задний фонарь правый для Cruiser B7\",\n",
      "      \"product_price\": 5900\n",
      "    }\n",
      "  ],\n",
      "  \"status\": \"Хочу уточнить вопросы по гарантии у менеджера\",\n",
      "  \"prefered_contact_time\": \"В любое время\"\n",
      "}\n"
     ]
    }
   ],
   "source": [
    "question = \"Мне норм в любое время. Хочу просто спросить про гарантию у живого человека. А запчасть та которую я хотел\" \n",
    "context = retrieve_context(question, index, documents)\n",
    "reply = chat_step(question, context)\n",
    "print(reply)\n"
   ]
  },
  {
   "cell_type": "code",
   "execution_count": 205,
   "id": "a8f86c05",
   "metadata": {},
   "outputs": [
    {
     "name": "stdout",
     "output_type": "stream",
     "text": [
      "Отлично, Максат! Для оформления заказа на оригинальный задний правый фонарь для Cruiser B7 с оплатой через QR-код Сбербанка, подтвердите, пожалуйста, ещё раз ваш способ оплаты — QR-код Сбербанка? И я сразу подготовлю счет.\n"
     ]
    }
   ],
   "source": [
    "question = \"А ладно, мне не нужна консультация менеджера. Я готовь прямо сейчас покупать\" \n",
    "context = retrieve_context(question, index, documents)\n",
    "reply = chat_step(question, context)\n",
    "print(reply)\n"
   ]
  },
  {
   "cell_type": "code",
   "execution_count": null,
   "id": "42462810",
   "metadata": {},
   "outputs": [
    {
     "name": "stdout",
     "output_type": "stream",
     "text": [
      "Счет успешно выставлен. Подробности:\n",
      "{\n",
      "  \"product_name\": \"Задний фонарь правый для Cruiser B7\",\n",
      "  \"amount\": 1,\n",
      "  \"total_price\": 5900,\n",
      "  \"payment_method\": \"QR-код Сбербанка\",\n",
      "  \"customer_name\": \"Максат\",\n",
      "  \"customer_contact\": \"+7 870 796 77 877\"\n",
      "}\n"
     ]
    }
   ],
   "source": [
    "question = \"Да, все верно\" \n",
    "context = retrieve_context(question, index, documents)\n",
    "reply = chat_step(question, context)\n",
    "print(reply)\n"
   ]
  },
  {
   "cell_type": "code",
   "execution_count": null,
   "id": "1aa07567",
   "metadata": {},
   "outputs": [
    {
     "name": "stdout",
     "output_type": "stream",
     "text": [
      "None\n"
     ]
    }
   ],
   "source": []
  }
 ],
 "metadata": {
  "kernelspec": {
   "display_name": "Python 3",
   "language": "python",
   "name": "python3"
  },
  "language_info": {
   "codemirror_mode": {
    "name": "ipython",
    "version": 3
   },
   "file_extension": ".py",
   "mimetype": "text/x-python",
   "name": "python",
   "nbconvert_exporter": "python",
   "pygments_lexer": "ipython3",
   "version": "3.11.9"
  }
 },
 "nbformat": 4,
 "nbformat_minor": 5
}
